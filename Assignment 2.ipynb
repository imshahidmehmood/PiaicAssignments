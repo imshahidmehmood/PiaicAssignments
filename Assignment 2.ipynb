{
 "cells": [
  {
   "cell_type": "code",
   "execution_count": 1,
   "metadata": {},
   "outputs": [
    {
     "data": {
      "text/plain": [
       "array([0, 1, 2, 3, 4, 5, 6, 7, 8, 9])"
      ]
     },
     "execution_count": 1,
     "metadata": {},
     "output_type": "execute_result"
    }
   ],
   "source": [
    "'''\n",
    "Question:1\n",
    "Convert a 1D array to a 2D array with 2 rows?\n",
    "Desired output::\n",
    "array([[0, 1, 2, 3, 4], [5, 6, 7, 8, 9]])\n",
    "'''\n",
    "import numpy as np\n",
    "array = np.arange(0,10)\n",
    "array"
   ]
  },
  {
   "cell_type": "code",
   "execution_count": 2,
   "metadata": {},
   "outputs": [
    {
     "data": {
      "text/plain": [
       "array([[0, 1, 2, 3, 4],\n",
       "       [5, 6, 7, 8, 9]])"
      ]
     },
     "execution_count": 2,
     "metadata": {},
     "output_type": "execute_result"
    }
   ],
   "source": [
    "array.reshape(2,5)"
   ]
  },
  {
   "cell_type": "code",
   "execution_count": 3,
   "metadata": {},
   "outputs": [
    {
     "data": {
      "text/plain": [
       "array([[0, 1, 2, 3, 4],\n",
       "       [5, 6, 7, 8, 9],\n",
       "       [1, 1, 1, 1, 1],\n",
       "       [1, 1, 1, 1, 1]])"
      ]
     },
     "execution_count": 3,
     "metadata": {},
     "output_type": "execute_result"
    }
   ],
   "source": [
    "'''\n",
    "Question:2\n",
    "How to stack two arrays vertically?\n",
    "Desired Output::\n",
    "array([[0, 1, 2, 3, 4], [5, 6, 7, 8, 9], [1, 1, 1, 1, 1], [1, 1, 1, 1, 1]])\n",
    "'''\n",
    "#in vertically array increase the rows \n",
    "import numpy  as np\n",
    "a = np.array([[0,1,2,3,4],[5,6,7,8,9]])\n",
    "b = np.array([[1, 1, 1, 1, 1], [1, 1, 1, 1, 1]])\n",
    "stack_array = np.vstack((a,b))\n",
    "stack_array"
   ]
  },
  {
   "cell_type": "code",
   "execution_count": 4,
   "metadata": {},
   "outputs": [
    {
     "data": {
      "text/plain": [
       "array([0, 1, 2, 3, 4, 1, 1, 1, 1, 1, 5, 6, 7, 8, 9, 1, 1, 1, 1, 1])"
      ]
     },
     "execution_count": 4,
     "metadata": {},
     "output_type": "execute_result"
    }
   ],
   "source": [
    "'''\n",
    "Question:3\n",
    "How to stack two arrays horizontally?\n",
    "Desired Output::\n",
    "array([[0, 1, 2, 3, 4, 1, 1, 1, 1, 1], [5, 6, 7, 8, 9, 1, 1, 1, 1, 1]])\n",
    "\n",
    "'''\n",
    "#in horizoantal incread the columns\n",
    "import numpy as np\n",
    "data = np.array([0,1,2,3,4,1,1,1,1,1])\n",
    "data1 = np.array([5,6,7,8,9,1,1,1,1,1])\n",
    "stacks= np.hstack((data,data1))\n",
    "stacks\n"
   ]
  },
  {
   "cell_type": "code",
   "execution_count": 5,
   "metadata": {},
   "outputs": [
    {
     "data": {
      "text/plain": [
       "array([0, 1, 2, 3, 4, 5, 6, 7, 8, 9])"
      ]
     },
     "execution_count": 5,
     "metadata": {},
     "output_type": "execute_result"
    }
   ],
   "source": [
    "'''\n",
    "\n",
    "Question:4\n",
    "How to convert an array of arrays into a flat 1d array?\n",
    "Desired Output::\n",
    "array([0, 1, 2, 3, 4, 5, 6, 7, 8, 9])\n",
    "'''\n",
    "import numpy  as np\n",
    "data = np.array([0., 1., 2., 3., 4., 5., 6., 7., 8., 9.],dtype=int)\n",
    "data\n",
    "\n"
   ]
  },
  {
   "cell_type": "code",
   "execution_count": 8,
   "metadata": {},
   "outputs": [
    {
     "data": {
      "text/plain": [
       "array([[ 0,  1,  2,  3,  4,  5,  6,  7,  8,  9, 10, 11, 12, 13, 14]])"
      ]
     },
     "execution_count": 8,
     "metadata": {},
     "output_type": "execute_result"
    }
   ],
   "source": [
    "'''\n",
    "\n",
    "Question:5\n",
    "How to Convert higher dimension into one dimension?\n",
    "Desired Output::\n",
    "array([ 0, 1, 2, 3, 4, 5, 6, 7, 8, 9, 10, 11, 12, 13, 14])\n",
    "'''\n",
    "import numpy as np\n",
    "data = np.array([[ 0, 1, 2], [ 3, 4, 5], [ 6, 7, 8], [ 9, 10, 11], [12, 13, 14]])\n",
    "data.reshape(1,15)"
   ]
  },
  {
   "cell_type": "code",
   "execution_count": 9,
   "metadata": {},
   "outputs": [
    {
     "data": {
      "text/plain": [
       "(15,)"
      ]
     },
     "execution_count": 9,
     "metadata": {},
     "output_type": "execute_result"
    }
   ],
   "source": [
    "'''\n",
    "Convert one dimension to higher dimension?\n",
    "Desired Output::\n",
    "array([[ 0, 1, 2], [ 3, 4, 5], [ 6, 7, 8], [ 9, 10, 11], [12, 13, 14]])\n",
    "\n",
    "'''\n",
    "import numpy as np\n",
    "data = np.array([ 0, 1, 2, 3, 4, 5, 6, 7, 8, 9, 10, 11, 12, 13, 14])\n",
    "data.shape"
   ]
  },
  {
   "cell_type": "code",
   "execution_count": 10,
   "metadata": {},
   "outputs": [
    {
     "data": {
      "text/plain": [
       "array([[ 0,  1,  2, 19, 15],\n",
       "       [13, 14,  5, 20, 18],\n",
       "       [ 6,  7,  8, 16, 17],\n",
       "       [ 9, 10, 11, 22, 21],\n",
       "       [12, 13, 14, 24, 26]])"
      ]
     },
     "execution_count": 10,
     "metadata": {},
     "output_type": "execute_result"
    }
   ],
   "source": [
    "'''\n",
    "Create 5x5 an array and find the square of an array?\n",
    "'''\n",
    "import numpy as np\n",
    "data = np.array([[ 0, 1, 2,19,15], [ 13, 14, 5,20,18], [ 6, 7, 8,16,17], [ 9, 10, 11,22,21], [12, 13, 14,24,26]])\n",
    "data"
   ]
  },
  {
   "cell_type": "code",
   "execution_count": 11,
   "metadata": {},
   "outputs": [
    {
     "data": {
      "text/plain": [
       "(5, 5)"
      ]
     },
     "execution_count": 11,
     "metadata": {},
     "output_type": "execute_result"
    }
   ],
   "source": [
    "data.shape"
   ]
  },
  {
   "cell_type": "code",
   "execution_count": 12,
   "metadata": {},
   "outputs": [
    {
     "data": {
      "text/plain": [
       "array([[  0,   1,   4, 361, 225],\n",
       "       [169, 196,  25, 400, 324],\n",
       "       [ 36,  49,  64, 256, 289],\n",
       "       [ 81, 100, 121, 484, 441],\n",
       "       [144, 169, 196, 576, 676]])"
      ]
     },
     "execution_count": 12,
     "metadata": {},
     "output_type": "execute_result"
    }
   ],
   "source": [
    "square = np.square(data)\n",
    "square"
   ]
  },
  {
   "cell_type": "code",
   "execution_count": 13,
   "metadata": {},
   "outputs": [
    {
     "data": {
      "text/plain": [
       "array([[ 0,  1,  2, 19, 15, 24],\n",
       "       [30, 13, 14,  5, 20, 18],\n",
       "       [31,  6,  7,  8, 16, 17],\n",
       "       [34,  9, 10, 11, 22, 21],\n",
       "       [38, 12, 13, 14, 24, 26]])"
      ]
     },
     "execution_count": 13,
     "metadata": {},
     "output_type": "execute_result"
    }
   ],
   "source": [
    "'''\n",
    "\n",
    "Question:8\n",
    "Create 5x6 an array and find the mean?\n",
    "'''\n",
    "import numpy as np\n",
    "data = np.array([[ 0, 1, 2,19,15,24], [ 30,13, 14, 5,20,18], [31, 6, 7, 8,16,17], [ 34,9, 10, 11,22,21], [38,12, 13, 14,24,26]])\n",
    "data\n"
   ]
  },
  {
   "cell_type": "code",
   "execution_count": 14,
   "metadata": {},
   "outputs": [
    {
     "data": {
      "text/plain": [
       "16.0"
      ]
     },
     "execution_count": 14,
     "metadata": {},
     "output_type": "execute_result"
    }
   ],
   "source": [
    "data.mean()"
   ]
  },
  {
   "cell_type": "code",
   "execution_count": 15,
   "metadata": {},
   "outputs": [
    {
     "data": {
      "text/plain": [
       "9.563820714895625"
      ]
     },
     "execution_count": 15,
     "metadata": {},
     "output_type": "execute_result"
    }
   ],
   "source": [
    "'''\n",
    "Question:9\n",
    "Find the standard deviation of the previous array in Q8?\n",
    "'''\n",
    "import numpy as np\n",
    "data = np.array([[ 0, 1, 2,19,15,24], [ 30,13, 14, 5,20,18], [31, 6, 7, 8,16,17], [ 34,9, 10, 11,22,21], [38,12, 13, 14,24,26]])\n",
    "stander_devi = np.std(data)\n",
    "stander_devi\n"
   ]
  },
  {
   "cell_type": "code",
   "execution_count": 16,
   "metadata": {},
   "outputs": [
    {
     "data": {
      "text/plain": [
       "14.5"
      ]
     },
     "execution_count": 16,
     "metadata": {},
     "output_type": "execute_result"
    }
   ],
   "source": [
    "'''\n",
    "\n",
    "Question:10\n",
    "Find the median of the previous array in Q8?\n",
    "'''\n",
    "import numpy as np\n",
    "data = np.array([[ 0, 1, 2,19,15,24], [ 30,13, 14, 5,20,18], [31, 6, 7, 8,16,17], [ 34,9, 10, 11,22,21], [38,12, 13, 14,24,26]])\n",
    "medians = np.median(data)\n",
    "medians\n"
   ]
  },
  {
   "cell_type": "code",
   "execution_count": 17,
   "metadata": {},
   "outputs": [
    {
     "data": {
      "text/plain": [
       "array([[ 0, 30, 31, 34, 38],\n",
       "       [ 1, 13,  6,  9, 12],\n",
       "       [ 2, 14,  7, 10, 13],\n",
       "       [19,  5,  8, 11, 14],\n",
       "       [15, 20, 16, 22, 24],\n",
       "       [24, 18, 17, 21, 26]])"
      ]
     },
     "execution_count": 17,
     "metadata": {},
     "output_type": "execute_result"
    }
   ],
   "source": [
    "'''\n",
    "Question:11\n",
    "Find the transpose of the previous array in Q8?\n",
    "'''\n",
    "import numpy as np\n",
    "data = np.array([[ 0, 1, 2,19,15,24], [ 30,13, 14, 5,20,18], [31, 6, 7, 8,16,17], [ 34,9, 10, 11,22,21], [38,12, 13, 14,24,26]])\n",
    "transport = np.transpose(data)\n",
    "transport"
   ]
  },
  {
   "cell_type": "code",
   "execution_count": 18,
   "metadata": {},
   "outputs": [
    {
     "data": {
      "text/plain": [
       "array([[ 0,  1,  2, 19],\n",
       "       [30, 13, 14,  5],\n",
       "       [31,  6,  7,  8],\n",
       "       [10, 11, 22, 21]])"
      ]
     },
     "execution_count": 18,
     "metadata": {},
     "output_type": "execute_result"
    }
   ],
   "source": [
    "'''\n",
    "Question:12\n",
    "Create a 4x4 an array and find the sum of diagonal elements?\n",
    "\n",
    "'''\n",
    "import numpy as np\n",
    "data = np.array([[ 0, 1, 2,19], [ 30,13, 14, 5], [31, 6, 7, 8], [10, 11,22,21]])\n",
    "data"
   ]
  },
  {
   "cell_type": "code",
   "execution_count": 19,
   "metadata": {},
   "outputs": [
    {
     "data": {
      "text/plain": [
       "(4, 4)"
      ]
     },
     "execution_count": 19,
     "metadata": {},
     "output_type": "execute_result"
    }
   ],
   "source": [
    "data.shape"
   ]
  },
  {
   "cell_type": "code",
   "execution_count": 20,
   "metadata": {},
   "outputs": [
    {
     "data": {
      "text/plain": [
       "array([ 0, 13,  7, 21])"
      ]
     },
     "execution_count": 20,
     "metadata": {},
     "output_type": "execute_result"
    }
   ],
   "source": [
    "diag = np.diagonal(data)\n",
    "diag"
   ]
  },
  {
   "cell_type": "code",
   "execution_count": 21,
   "metadata": {},
   "outputs": [
    {
     "data": {
      "text/plain": [
       "41"
      ]
     },
     "execution_count": 21,
     "metadata": {},
     "output_type": "execute_result"
    }
   ],
   "source": [
    "sum(diag)"
   ]
  },
  {
   "cell_type": "code",
   "execution_count": 22,
   "metadata": {},
   "outputs": [
    {
     "data": {
      "text/plain": [
       "41115.99999999995"
      ]
     },
     "execution_count": 22,
     "metadata": {},
     "output_type": "execute_result"
    }
   ],
   "source": [
    "'''\n",
    "Question:13\n",
    "Find the determinant of the previous array in Q12?\n",
    "'''\n",
    "import numpy as np\n",
    "data = np.array([[ 0, 1, 2,19], [ 30,13, 14, 5], [31, 6, 7, 8], [10, 11,22,21]])\n",
    "determinat =np.linalg.det((data))\n",
    "determinat"
   ]
  },
  {
   "cell_type": "code",
   "execution_count": 23,
   "metadata": {},
   "outputs": [
    {
     "name": "stdout",
     "output_type": "stream",
     "text": [
      "2.2\n",
      "91.39999999999999\n"
     ]
    }
   ],
   "source": [
    "'''\n",
    "Question:14\n",
    "Find the 5th and 95th percentile of an array?\n",
    "'''\n",
    "import numpy as np\n",
    "data = np.array([1,5,3,4,8,50,3,6,95,3,6,44,89])\n",
    "print(np.percentile(data,5))\n",
    "print(np.percentile(data,95))"
   ]
  },
  {
   "cell_type": "code",
   "execution_count": 24,
   "metadata": {},
   "outputs": [
    {
     "data": {
      "text/plain": [
       "array([False, False, False, False, False, False, False, False, False,\n",
       "       False, False, False, False, False,  True])"
      ]
     },
     "execution_count": 24,
     "metadata": {},
     "output_type": "execute_result"
    }
   ],
   "source": [
    "'''\n",
    "Question:15\n",
    "How to find if a given array has any null values?¶\n",
    "'''\n",
    "import numpy as np\n",
    "data = np.array([1,5,3,4,8,50,3,6,95,3,6,44,89,0,np.nan])\n",
    "find_null = np.isnan(data)\n",
    "find_null"
   ]
  },
  {
   "cell_type": "code",
   "execution_count": null,
   "metadata": {},
   "outputs": [],
   "source": []
  }
 ],
 "metadata": {
  "kernelspec": {
   "display_name": "Python 3",
   "language": "python",
   "name": "python3"
  },
  "language_info": {
   "codemirror_mode": {
    "name": "ipython",
    "version": 3
   },
   "file_extension": ".py",
   "mimetype": "text/x-python",
   "name": "python",
   "nbconvert_exporter": "python",
   "pygments_lexer": "ipython3",
   "version": "3.6.4"
  }
 },
 "nbformat": 4,
 "nbformat_minor": 2
}
